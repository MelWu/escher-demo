{
 "metadata": {
  "name": "",
  "signature": "sha256:7e40781238f64528bcd7f328cba1c7bb4f4025fbd392d9da45cbe6b07d1d1cd4"
 },
 "nbformat": 3,
 "nbformat_minor": 0,
 "worksheets": []
}